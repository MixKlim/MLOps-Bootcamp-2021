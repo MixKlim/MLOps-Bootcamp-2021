{
 "cells": [
  {
   "cell_type": "code",
   "execution_count": 1,
   "id": "81e65c0b-9175-4e64-b144-c44aec98cd3f",
   "metadata": {},
   "outputs": [
    {
     "name": "stderr",
     "output_type": "stream",
     "text": [
      "Failure while loading azureml_run_type_providers. Failed to load entrypoint hyperdrive = azureml.train.hyperdrive:HyperDriveRun._from_run_dto with exception (ruamel.yaml 0.17.9 (c:\\users\\klim_\\anaconda3\\lib\\site-packages), Requirement.parse('ruamel.yaml<0.17.5,>=0.15.35'), {'azureml-core'}).\n",
      "Failure while loading azureml_run_type_providers. Failed to load entrypoint automl = azureml.train.automl.run:AutoMLRun._from_run_dto with exception (ruamel.yaml 0.17.9 (c:\\users\\klim_\\anaconda3\\lib\\site-packages), Requirement.parse('ruamel.yaml<0.17.5,>=0.15.35'), {'azureml-core'}).\n",
      "Failure while loading azureml_run_type_providers. Failed to load entrypoint azureml.PipelineRun = azureml.pipeline.core.run:PipelineRun._from_dto with exception (ruamel.yaml 0.17.9 (c:\\users\\klim_\\anaconda3\\lib\\site-packages), Requirement.parse('ruamel.yaml<0.17.5,>=0.15.35'), {'azureml-core'}).\n",
      "Failure while loading azureml_run_type_providers. Failed to load entrypoint azureml.ReusedStepRun = azureml.pipeline.core.run:StepRun._from_reused_dto with exception (ruamel.yaml 0.17.9 (c:\\users\\klim_\\anaconda3\\lib\\site-packages), Requirement.parse('ruamel.yaml<0.17.5,>=0.15.35'), {'azureml-core'}).\n",
      "Failure while loading azureml_run_type_providers. Failed to load entrypoint azureml.StepRun = azureml.pipeline.core.run:StepRun._from_dto with exception (ruamel.yaml 0.17.9 (c:\\users\\klim_\\anaconda3\\lib\\site-packages), Requirement.parse('ruamel.yaml<0.17.5,>=0.15.35'), {'azureml-core'}).\n",
      "Failure while loading azureml_run_type_providers. Failed to load entrypoint azureml.scriptrun = azureml.core.script_run:ScriptRun._from_run_dto with exception (ruamel.yaml 0.17.9 (c:\\users\\klim_\\anaconda3\\lib\\site-packages), Requirement.parse('ruamel.yaml<0.17.5,>=0.15.35')).\n"
     ]
    }
   ],
   "source": [
    "import os\n",
    "import pandas as pd\n",
    "import numpy as np\n",
    "from azureml.core import Workspace, Dataset"
   ]
  },
  {
   "cell_type": "code",
   "execution_count": 2,
   "id": "c3682880-d482-4c29-8fa2-82fc35b99a50",
   "metadata": {},
   "outputs": [],
   "source": [
    "WORKDIR = os.getcwd()"
   ]
  },
  {
   "cell_type": "code",
   "execution_count": 3,
   "id": "8b8c5ba5-0b5d-4739-8c5d-d3fef0235063",
   "metadata": {},
   "outputs": [
    {
     "name": "stdout",
     "output_type": "stream",
     "text": [
      "Folder created!\n"
     ]
    }
   ],
   "source": [
    "# Create a folder\n",
    "BATCH_FOLDER = 'batch-data'\n",
    "os.makedirs(BATCH_FOLDER, exist_ok=True)\n",
    "print(\"Folder created!\")"
   ]
  },
  {
   "cell_type": "code",
   "execution_count": 4,
   "id": "08b58c35-e6b0-46ae-a05b-3b5686ccb794",
   "metadata": {},
   "outputs": [],
   "source": [
    "# get the workspace from config.json\n",
    "ws = Workspace.from_config()\n",
    "# get the datastore to upload our data\n",
    "datastore = ws.get_default_datastore()"
   ]
  },
  {
   "cell_type": "code",
   "execution_count": 7,
   "id": "53c5bfba-23aa-4273-890d-0f9813e9a3ec",
   "metadata": {},
   "outputs": [
    {
     "data": {
      "text/html": [
       "<div>\n",
       "<style scoped>\n",
       "    .dataframe tbody tr th:only-of-type {\n",
       "        vertical-align: middle;\n",
       "    }\n",
       "\n",
       "    .dataframe tbody tr th {\n",
       "        vertical-align: top;\n",
       "    }\n",
       "\n",
       "    .dataframe thead th {\n",
       "        text-align: right;\n",
       "    }\n",
       "</style>\n",
       "<table border=\"1\" class=\"dataframe\">\n",
       "  <thead>\n",
       "    <tr style=\"text-align: right;\">\n",
       "      <th></th>\n",
       "      <th>data_index_</th>\n",
       "      <th>temperature</th>\n",
       "      <th>solar_ghi</th>\n",
       "      <th>solar_prediction_mw</th>\n",
       "      <th>wind_prediction_mw</th>\n",
       "      <th>load_actuals_mw</th>\n",
       "    </tr>\n",
       "  </thead>\n",
       "  <tbody>\n",
       "    <tr>\n",
       "      <th>0</th>\n",
       "      <td>2020-01-01 00:00:00</td>\n",
       "      <td>274.989655</td>\n",
       "      <td>0.0</td>\n",
       "      <td>0.0</td>\n",
       "      <td>70.865426</td>\n",
       "      <td>95.756328</td>\n",
       "    </tr>\n",
       "    <tr>\n",
       "      <th>1</th>\n",
       "      <td>2020-01-01 00:15:00</td>\n",
       "      <td>274.925659</td>\n",
       "      <td>0.0</td>\n",
       "      <td>0.0</td>\n",
       "      <td>69.296785</td>\n",
       "      <td>94.836196</td>\n",
       "    </tr>\n",
       "    <tr>\n",
       "      <th>2</th>\n",
       "      <td>2020-01-01 00:30:00</td>\n",
       "      <td>274.861694</td>\n",
       "      <td>0.0</td>\n",
       "      <td>0.0</td>\n",
       "      <td>66.977409</td>\n",
       "      <td>93.798127</td>\n",
       "    </tr>\n",
       "    <tr>\n",
       "      <th>3</th>\n",
       "      <td>2020-01-01 00:45:00</td>\n",
       "      <td>274.797699</td>\n",
       "      <td>0.0</td>\n",
       "      <td>0.0</td>\n",
       "      <td>64.305715</td>\n",
       "      <td>92.162902</td>\n",
       "    </tr>\n",
       "    <tr>\n",
       "      <th>4</th>\n",
       "      <td>2020-01-01 01:00:00</td>\n",
       "      <td>274.423157</td>\n",
       "      <td>0.0</td>\n",
       "      <td>0.0</td>\n",
       "      <td>61.128262</td>\n",
       "      <td>91.506670</td>\n",
       "    </tr>\n",
       "  </tbody>\n",
       "</table>\n",
       "</div>"
      ],
      "text/plain": [
       "          data_index_  temperature  solar_ghi  solar_prediction_mw  \\\n",
       "0 2020-01-01 00:00:00   274.989655        0.0                  0.0   \n",
       "1 2020-01-01 00:15:00   274.925659        0.0                  0.0   \n",
       "2 2020-01-01 00:30:00   274.861694        0.0                  0.0   \n",
       "3 2020-01-01 00:45:00   274.797699        0.0                  0.0   \n",
       "4 2020-01-01 01:00:00   274.423157        0.0                  0.0   \n",
       "\n",
       "   wind_prediction_mw  load_actuals_mw  \n",
       "0           70.865426        95.756328  \n",
       "1           69.296785        94.836196  \n",
       "2           66.977409        93.798127  \n",
       "3           64.305715        92.162902  \n",
       "4           61.128262        91.506670  "
      ]
     },
     "execution_count": 7,
     "metadata": {},
     "output_type": "execute_result"
    }
   ],
   "source": [
    "# retrieve test dataset from Azure Datastore\n",
    "ds = Dataset.get_by_name(ws, name=\"processed_weather_data\")\n",
    "df = ds.to_pandas_dataframe()\n",
    "df.head()"
   ]
  },
  {
   "cell_type": "code",
   "execution_count": 13,
   "id": "a0ff8e36-060c-4eb2-a0f7-ae99738a97f3",
   "metadata": {},
   "outputs": [],
   "source": [
    "# pick up last week, drop target and timestamp, convert to numpy array\n",
    "X = df.iloc[-7:]\n",
    "X = X.drop(['load_actuals_mw', 'data_index_'], axis=1)\n",
    "X = X.to_numpy()"
   ]
  },
  {
   "cell_type": "code",
   "execution_count": 16,
   "id": "ed94c711-a121-4d64-8f43-5baa2a4b48df",
   "metadata": {},
   "outputs": [
    {
     "name": "stdout",
     "output_type": "stream",
     "text": [
      "Saving files...\n",
      "files saved!\n"
     ]
    }
   ],
   "source": [
    "# Save each sample as a separate file\n",
    "print(\"Saving files...\")\n",
    "for i in range(len(X)):\n",
    "    fname = str(i+1) + '.csv'\n",
    "    X[i].tofile(os.path.join(BATCH_FOLDER, fname), sep=\",\")\n",
    "print(\"files saved!\")"
   ]
  },
  {
   "cell_type": "code",
   "execution_count": 17,
   "id": "f46e6ad6-0266-4c9b-b3b5-eeef1138c8e6",
   "metadata": {},
   "outputs": [
    {
     "name": "stdout",
     "output_type": "stream",
     "text": [
      "Uploading an estimated of 7 files\n",
      "Uploading batch-data\\1.csv\n",
      "Uploaded batch-data\\1.csv, 1 files out of an estimated total of 7\n",
      "Uploading batch-data\\2.csv\n",
      "Uploaded batch-data\\2.csv, 2 files out of an estimated total of 7\n",
      "Uploading batch-data\\5.csv\n",
      "Uploaded batch-data\\5.csv, 3 files out of an estimated total of 7\n",
      "Uploading batch-data\\3.csv\n",
      "Uploaded batch-data\\3.csv, 4 files out of an estimated total of 7\n",
      "Uploading batch-data\\4.csv\n",
      "Uploaded batch-data\\4.csv, 5 files out of an estimated total of 7\n",
      "Uploading batch-data\\6.csv\n",
      "Uploaded batch-data\\6.csv, 6 files out of an estimated total of 7\n",
      "Uploading batch-data\\7.csv\n",
      "Uploaded batch-data\\7.csv, 7 files out of an estimated total of 7\n",
      "Uploaded 7 files\n"
     ]
    },
    {
     "data": {
      "text/plain": [
       "$AZUREML_DATAREFERENCE_c30e69e832ba49dbb8d0319b0208a4be"
      ]
     },
     "execution_count": 17,
     "metadata": {},
     "output_type": "execute_result"
    }
   ],
   "source": [
    "datastore.upload(src_dir=\"batch-data\", target_path=\"batch-data\", overwrite=True, show_progress=True)"
   ]
  },
  {
   "cell_type": "code",
   "execution_count": 18,
   "id": "fc087e55-fda3-43cf-8d05-620bd4ad0a93",
   "metadata": {},
   "outputs": [
    {
     "name": "stdout",
     "output_type": "stream",
     "text": [
      "Done!\n"
     ]
    }
   ],
   "source": [
    "# Register a dataset for the input data\n",
    "batch_data_set = Dataset.File.from_files(path=(datastore, 'batch-data/'), validate=False)\n",
    "try:\n",
    "    batch_data_set = batch_data_set.register(workspace=ws, \n",
    "                                             name='batch-data',\n",
    "                                             description='batch data for pytown demand energy forecast',\n",
    "                                             create_new_version=True)\n",
    "except Exception as ex:\n",
    "    print(ex)\n",
    "\n",
    "print(\"Done!\")"
   ]
  }
 ],
 "metadata": {
  "kernelspec": {
   "display_name": "Python 3",
   "language": "python",
   "name": "python3"
  },
  "language_info": {
   "codemirror_mode": {
    "name": "ipython",
    "version": 3
   },
   "file_extension": ".py",
   "mimetype": "text/x-python",
   "name": "python",
   "nbconvert_exporter": "python",
   "pygments_lexer": "ipython3",
   "version": "3.7.10"
  }
 },
 "nbformat": 4,
 "nbformat_minor": 5
}
