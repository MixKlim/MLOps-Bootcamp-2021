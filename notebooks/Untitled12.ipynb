{
 "cells": [
  {
   "cell_type": "code",
   "execution_count": null,
   "metadata": {},
   "outputs": [],
   "source": [
    "import os\n",
    "import sys\n",
    "import plotly.graph_objects as go\n",
    "from plotly.subplots import make_subplots\n",
    "import math\n",
    "import numpy as np\n",
    "import pandas as pd\n",
    "import datetime\n",
    "import pytz\n",
    "import joblib\n",
    "from sklearn.linear_model import LinearRegression\n",
    "from matplotlib import pyplot"
   ]
  },
  {
   "cell_type": "code",
   "execution_count": null,
   "metadata": {},
   "outputs": [],
   "source": [
    "# Auto-reload to directly apply changes \n",
    "%load_ext autoreload\n",
    "%autoreload 2\n",
    "\n",
    "# Display all columns\n",
    "pd.set_option(\"display.max_columns\", None)"
   ]
  },
  {
   "cell_type": "markdown",
   "metadata": {},
   "source": [
    "# Import data\n",
    "\n"
   ]
  },
  {
   "cell_type": "code",
   "execution_count": null,
   "metadata": {},
   "outputs": [],
   "source": [
    "# Load data\n",
    "df = pd.read_csv(\"C://user/awesome_datascientist/myproject3/mvp/data/input_data.csv\")\n",
    "df = df.set_index(\"data_index_\")\n",
    "\n",
    "# Set timezone\n",
    "df.index = pd.to_datetime(df.index).tz_convert(\"Europe/Amsterdam\")"
   ]
  },
  {
   "cell_type": "markdown",
   "metadata": {},
   "source": [
    "# Data exploration"
   ]
  },
  {
   "cell_type": "code",
   "execution_count": null,
   "metadata": {},
   "outputs": [],
   "source": [
    "# Visualise results\n",
    "def plot_figure_load(df):\n",
    "    fig = go.Figure(\n",
    "        make_subplots(\n",
    "            shared_xaxes=True, vertical_spacing=0.02,\n",
    "        )\n",
    "    )\n",
    "    fig.add_trace(\n",
    "        go.Scatter(\n",
    "            x=df.index,\n",
    "            y=df[\"load_actuals_mw\"],\n",
    "            name=\"Actual\",\n",
    "            legendgroup=\"Actual\",\n",
    "            showlegend=True,\n",
    "            line_color=\"green\",\n",
    "            opacity=0.5,\n",
    "        ))\n",
    "    title_text = \"Energy demand\"\n",
    "    fig.update_layout(title={'text': title_text,\n",
    "                             'y': 0.95,\n",
    "                             'x': 0.5,\n",
    "                             'xanchor': 'center',\n",
    "                             'yanchor': 'top'},\n",
    "                      autosize=False,\n",
    "                      width=800,\n",
    "                      height=800,\n",
    "                      paper_bgcolor='white',\n",
    "                      plot_bgcolor='white'\n",
    "                      )\n",
    "\n",
    "    fig.update_yaxes(title_text=\"Demand [MW]\", title_standoff=30, title_font=dict(size=12),\n",
    "                     showgrid=True, gridcolor='lightgrey',\n",
    "                     zeroline=True, zerolinecolor='lightgrey',\n",
    "                     )\n",
    "    fig.update_xaxes(title_text=\"Date\",\n",
    "                     showgrid=True, gridcolor='lightgrey',\n",
    "                     zeroline=True, zerolinecolor='lightgrey',\n",
    "                     )\n",
    "\n",
    "    return fig"
   ]
  },
  {
   "cell_type": "code",
   "execution_count": null,
   "metadata": {},
   "outputs": [],
   "source": [
    "fig = plot_figure_load(df)\n",
    "fig.show()"
   ]
  },
  {
   "cell_type": "markdown",
   "metadata": {},
   "source": [
    "# 1. Batch model"
   ]
  },
  {
   "cell_type": "markdown",
   "metadata": {},
   "source": [
    "## 1A. Baseline model\n",
    "\n",
    "Because demand has a strong daily and weekly pattern, the baseline model is a seasonal naive forecats. The predicted demand is the demand at the same time of the day 1 week ago."
   ]
  },
  {
   "cell_type": "code",
   "execution_count": null,
   "metadata": {},
   "outputs": [],
   "source": [
    "# Baseline model: Shifted by 1 week\n",
    "df_load_baseline = df.copy(deep=True).reset_index()[[\"load_actuals_mw\"]]\n",
    "\n",
    "df_load_baseline[\"data_index_\"] = pd.to_datetime(\n",
    "  df.reset_index()[\"data_index_\"]\n",
    ") + datetime.timedelta(weeks=1)\n",
    "\n",
    "df_load_baseline = df_load_baseline.set_index(\"data_index_\").rename(\n",
    "    columns={\"load_actuals_mw\": \"baseline\"}\n",
    ")"
   ]
  },
  {
   "cell_type": "code",
   "execution_count": null,
   "metadata": {},
   "outputs": [],
   "source": [
    "# Plot next to each other\n",
    "fig = plot_figure_load(df)\n",
    "\n",
    "# Plot baseline prediction\n",
    "fig.add_trace(\n",
    "    go.Scatter(\n",
    "        x=df_load_baseline.index,\n",
    "        y=df_load_baseline[\"baseline\"],\n",
    "        name=\"Baseline model\",\n",
    "        legendgroup=\"Baseline model\",\n",
    "        showlegend=True,\n",
    "        line_color=\"orange\",\n",
    "        opacity=0.5,\n",
    "    ),\n",
    "    col=1,\n",
    "    row=1,\n",
    ")"
   ]
  },
  {
   "cell_type": "markdown",
   "metadata": {},
   "source": [
    "## 1B. ML model"
   ]
  },
  {
   "cell_type": "code",
   "execution_count": null,
   "metadata": {},
   "outputs": [],
   "source": [
    "def add_fourier_features(df, column_name, period, n, period_name = \"f\"):\n",
    "    t = df[column_name]\n",
    "    for i in range(n):\n",
    "        j = math.ceil((i+1)/2)\n",
    "        if i%2:\n",
    "            df[f'{period_name}_{i}'] = np.cos(j * 2 * np.pi * t / period)\n",
    "        else:\n",
    "            df[f'{period_name}_{i}'] = np.sin(j * 2 * np.pi * t / period)\n",
    "    return df\n",
    "\n",
    "def create_workday_weekend_features(df, fourier_order):\n",
    "    # split features in workday / weekend\n",
    "    df['is_workday'] = (~(df.is_holiday.astype(bool) | (df.day_of_week == 5) | (df.day_of_week == 6)))\n",
    "    workday_data = {\n",
    "        f'workday_{k}':df[k]*df.is_workday.astype(int)\n",
    "        for k\n",
    "        in ['temperature', 'solar_ghi'] + [f'f_quarter_{f}' for f in range(fourier_order)]\n",
    "    }\n",
    "    weekend_data = {\n",
    "        f'weekend_{k}':df[k]*(~df.is_workday).astype(int)\n",
    "        for k\n",
    "        in ['temperature', 'solar_ghi'] + [f'f_quarter_{f}' for f in range(fourier_order)]\n",
    "    }\n",
    "    return workday_data, weekend_data\n",
    "\n",
    "# add Fourier features to capture daily pattern in model\n",
    "fourier_order = 6\n",
    "\n",
    "df = add_fourier_features(df, \"quarter_of_day\", 4 * 24, fourier_order, \"f_quarter\")\n",
    "\n",
    "# split workdays and weekend/holidays\n",
    "workday_data, weekend_data = create_workday_weekend_features(df, fourier_order)\n",
    "df_linregr = pd.DataFrame(\n",
    "    {**workday_data, **weekend_data, \"load\": df[\"load_actuals_mw\"]}\n",
    ")\n",
    "# List the input feature columns\n",
    "feat_columns = list(workday_data.keys()) + list(weekend_data.keys())"
   ]
  },
  {
   "cell_type": "code",
   "execution_count": null,
   "metadata": {
    "tags": []
   },
   "outputs": [],
   "source": [
    "# Define size of train and test set of model\n",
    "number_of_training_days = 30\n",
    "number_of_test_days = 30\n",
    "\n",
    "test_start_date_run_i = df_linregr.index.min() + datetime.timedelta(\n",
    "    days=number_of_training_days\n",
    ")\n",
    "test_end_date = df_linregr.index.max()\n",
    "df_result = pd.DataFrame()\n",
    "\n",
    "# Run model for full period of data set\n",
    "while True:\n",
    "    print(f\"Start of prediction of this run: {test_start_date_run_i}\")\n",
    "\n",
    "    # split train/test set\n",
    "    df_train = df_linregr[\n",
    "        test_start_date_run_i\n",
    "        - datetime.timedelta(days=number_of_training_days) : test_start_date_run_i\n",
    "    ]\n",
    "\n",
    "    df_test = df_linregr[\n",
    "        test_start_date_run_i : test_start_date_run_i\n",
    "        + datetime.timedelta(days=number_of_test_days)\n",
    "    ]\n",
    "\n",
    "    lr = LinearRegression()\n",
    "    lr.fit(df_train[feat_columns], df_train[\"load\"])\n",
    "    \n",
    "    y_pred = lr.predict(df_test[feat_columns])\n",
    "    \n",
    "    # Combine results\n",
    "    df_result_run_i = pd.DataFrame(\n",
    "        {\n",
    "            \"load\": df_test[\"load\"],\n",
    "            \"pred\": y_pred,\n",
    "        }\n",
    "    )\n",
    "\n",
    "    # Store results in a single dataframe\n",
    "    df_result = df_result.append(df_result_run_i)\n",
    "    # Adjust start date of test set for next run\n",
    "    test_start_date_run_i = test_start_date_run_i + datetime.timedelta(\n",
    "        days=number_of_test_days\n",
    "    )\n",
    "    if test_start_date_run_i > test_end_date:\n",
    "        break \n"
   ]
  },
  {
   "cell_type": "code",
   "execution_count": null,
   "metadata": {},
   "outputs": [],
   "source": [
    "# Plot next to each other\n",
    "fig = plot_figure_load(df)\n",
    "\n",
    "# Plot baseline prediction\n",
    "fig.add_trace(\n",
    "    go.Scatter(\n",
    "        x=df_result.index,\n",
    "        y=df_result[\"pred\"],\n",
    "        name=\"Linear regression model\",\n",
    "        legendgroup=\"Linear regression model\",\n",
    "        showlegend=True,\n",
    "        line_color=\"magenta\",\n",
    "        opacity=0.5,\n",
    "    ),\n",
    "    col=1,\n",
    "    row=1,\n",
    ")"
   ]
  },
  {
   "cell_type": "markdown",
   "metadata": {},
   "source": [
    "# 2. Real time model\n",
    "\n",
    "Deploying your model real-time will beat even advanced ML batch models in performance. Therefore the model is kept simple."
   ]
  },
  {
   "cell_type": "code",
   "execution_count": null,
   "metadata": {},
   "outputs": [],
   "source": [
    "# Baseline model: Shifted by 15 minutes\n",
    "df_load_rt = df.copy(deep=True).reset_index()[[\"load_actuals_mw\"]]\n",
    "df_load_rt[\"data_index_\"] = pd.to_datetime(\n",
    "    df.reset_index()[\"data_index_\"]\n",
    ") + datetime.timedelta(minutes=15)\n",
    "df_load_rt = df_load_rt.set_index(\"data_index_\").rename(\n",
    "    columns={\"load_actuals_mw\": \"baseline\"}\n",
    ")"
   ]
  },
  {
   "cell_type": "code",
   "execution_count": null,
   "metadata": {},
   "outputs": [],
   "source": [
    "# Plot next to each other\n",
    "fig = plot_figure_load(df)\n",
    "\n",
    "# Plot baseline prediction\n",
    "fig.add_trace(\n",
    "    go.Scatter(\n",
    "        x=df_load_rt.index,\n",
    "        y=df_load_rt[\"baseline\"],\n",
    "        name=\"Baseline model\",\n",
    "        legendgroup=\"Baseline model\",\n",
    "        showlegend=True,\n",
    "        line_color=\"orange\",\n",
    "        opacity=0.5,\n",
    "    ),\n",
    "    col=1,\n",
    "    row=1,\n",
    ")"
   ]
  }
 ],
 "metadata": {
  "kernelspec": {
   "name": "python3",
   "display_name": "Python 3.8.10 64-bit ('mlbootcamp': conda)"
  },
  "language_info": {
   "codemirror_mode": {
    "name": "ipython",
    "version": 3
   },
   "file_extension": ".py",
   "mimetype": "text/x-python",
   "name": "python",
   "nbconvert_exporter": "python",
   "pygments_lexer": "ipython3",
   "version": "3.8.10"
  },
  "interpreter": {
   "hash": "5b6fffc4173680b8b1789dbf04d6aefd1d6ff8a86e60b08b026a437ef5964801"
  }
 },
 "nbformat": 4,
 "nbformat_minor": 4
}