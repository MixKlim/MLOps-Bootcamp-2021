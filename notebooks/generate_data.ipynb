{
 "cells": [
  {
   "cell_type": "code",
   "execution_count": 62,
   "source": [
    "import os\r\n",
    "import math\r\n",
    "import shutil\r\n",
    "import pandas as pd\r\n",
    "import numpy as np\r\n",
    "from workalendar.europe import Netherlands\r\n",
    "from azureml.core import Workspace, Dataset"
   ],
   "outputs": [],
   "metadata": {}
  },
  {
   "cell_type": "code",
   "execution_count": 8,
   "source": [
    "WORKDIR = os.path.dirname(os.getcwd())"
   ],
   "outputs": [],
   "metadata": {}
  },
  {
   "cell_type": "code",
   "execution_count": 2,
   "source": [
    "def add_fourier_features(df, column_name, period, n, period_name = \"f\"):\r\n",
    "    t = df[column_name]\r\n",
    "    for i in range(n):\r\n",
    "        j = math.ceil((i+1)/2)\r\n",
    "        if i%2:\r\n",
    "            df[f'{period_name}_{i}'] = np.cos(j * 2 * np.pi * t / period)\r\n",
    "        else:\r\n",
    "            df[f'{period_name}_{i}'] = np.sin(j * 2 * np.pi * t / period)\r\n",
    "    return df"
   ],
   "outputs": [],
   "metadata": {}
  },
  {
   "cell_type": "code",
   "execution_count": 3,
   "source": [
    "def create_holiday_features(df):\r\n",
    "    # holiday indicator feature\r\n",
    "    cal = Netherlands(include_carnival=True)\r\n",
    "\r\n",
    "    # Make a pandas series with holidays of interest\r\n",
    "    holidates = cal.holidays(2020) + cal.holidays(2021)\r\n",
    "    pd_holidays = pd.to_datetime([d[0] for d in holidates])\r\n",
    "\r\n",
    "    df['is_holiday'] = pd.to_datetime(df['data_index_'].dt.date).isin(pd_holidays)\r\n",
    "    return df"
   ],
   "outputs": [],
   "metadata": {}
  },
  {
   "cell_type": "code",
   "execution_count": 4,
   "source": [
    "def create_workday_weekend_features(df, fourier_order):\r\n",
    "    # split features in workday / weekend\r\n",
    "    df['is_workday'] = (~(df.is_holiday.astype(bool) | (df.day_of_week == 5) | (df.day_of_week == 6)))\r\n",
    "    workday_data = {\r\n",
    "        f'workday_{k}':df[k]*df.is_workday.astype(int)\r\n",
    "        for k\r\n",
    "        in ['temperature', 'solar_ghi'] + [f'f_quarter_{f}' for f in range(fourier_order)]\r\n",
    "    }\r\n",
    "    weekend_data = {\r\n",
    "        f'weekend_{k}':df[k]*(~df.is_workday).astype(int)\r\n",
    "        for k\r\n",
    "        in ['temperature', 'solar_ghi'] + [f'f_quarter_{f}' for f in range(fourier_order)]\r\n",
    "    }\r\n",
    "    return workday_data, weekend_data"
   ],
   "outputs": [],
   "metadata": {}
  },
  {
   "cell_type": "code",
   "execution_count": 5,
   "source": [
    "# get the workspace from config.json\r\n",
    "ws = Workspace.from_config()\r\n",
    "# get the datastore to upload our data\r\n",
    "datastore = ws.get_default_datastore()"
   ],
   "outputs": [],
   "metadata": {}
  },
  {
   "cell_type": "markdown",
   "source": [
    "## Generate real-time data"
   ],
   "metadata": {}
  },
  {
   "cell_type": "code",
   "execution_count": 6,
   "source": [
    "# retrieve real-time dataset from Azure Datastore\r\n",
    "ds = Dataset.get_by_name(ws, name=\"energy_data_realtime\")\r\n",
    "df = ds.to_pandas_dataframe()\r\n",
    "# pick up only last two hours\r\n",
    "X = df.iloc[-10:]\r\n",
    "X"
   ],
   "outputs": [
    {
     "output_type": "execute_result",
     "data": {
      "text/plain": [
       "              data_index_  solar_prediction_mw  wind_prediction_mw  \\\n",
       "50487 2021-06-09 21:45:00                  0.0           36.298340   \n",
       "50488 2021-06-09 22:00:00                  0.0           52.180125   \n",
       "50489 2021-06-09 22:15:00                  0.0           52.216332   \n",
       "50490 2021-06-09 22:30:00                  0.0           52.100467   \n",
       "50491 2021-06-09 22:45:00                  0.0           51.901324   \n",
       "50492 2021-06-09 23:00:00                  0.0           51.823736   \n",
       "50493 2021-06-09 23:15:00                  0.0           50.666638   \n",
       "50494 2021-06-09 23:30:00                  0.0           49.584024   \n",
       "50495 2021-06-09 23:45:00                  0.0           48.517445   \n",
       "50496 2021-06-10 00:00:00                  0.0           47.509316   \n",
       "\n",
       "       load_actuals_mw  \n",
       "50487        96.104623  \n",
       "50488        94.768896  \n",
       "50489        92.284519  \n",
       "50490        90.824687  \n",
       "50491        90.218876  \n",
       "50492        90.339627  \n",
       "50493        88.413236  \n",
       "50494        87.441277  \n",
       "50495        85.329757  \n",
       "50496        84.122788  "
      ],
      "text/html": [
       "<div>\n",
       "<style scoped>\n",
       "    .dataframe tbody tr th:only-of-type {\n",
       "        vertical-align: middle;\n",
       "    }\n",
       "\n",
       "    .dataframe tbody tr th {\n",
       "        vertical-align: top;\n",
       "    }\n",
       "\n",
       "    .dataframe thead th {\n",
       "        text-align: right;\n",
       "    }\n",
       "</style>\n",
       "<table border=\"1\" class=\"dataframe\">\n",
       "  <thead>\n",
       "    <tr style=\"text-align: right;\">\n",
       "      <th></th>\n",
       "      <th>data_index_</th>\n",
       "      <th>solar_prediction_mw</th>\n",
       "      <th>wind_prediction_mw</th>\n",
       "      <th>load_actuals_mw</th>\n",
       "    </tr>\n",
       "  </thead>\n",
       "  <tbody>\n",
       "    <tr>\n",
       "      <th>50487</th>\n",
       "      <td>2021-06-09 21:45:00</td>\n",
       "      <td>0.0</td>\n",
       "      <td>36.298340</td>\n",
       "      <td>96.104623</td>\n",
       "    </tr>\n",
       "    <tr>\n",
       "      <th>50488</th>\n",
       "      <td>2021-06-09 22:00:00</td>\n",
       "      <td>0.0</td>\n",
       "      <td>52.180125</td>\n",
       "      <td>94.768896</td>\n",
       "    </tr>\n",
       "    <tr>\n",
       "      <th>50489</th>\n",
       "      <td>2021-06-09 22:15:00</td>\n",
       "      <td>0.0</td>\n",
       "      <td>52.216332</td>\n",
       "      <td>92.284519</td>\n",
       "    </tr>\n",
       "    <tr>\n",
       "      <th>50490</th>\n",
       "      <td>2021-06-09 22:30:00</td>\n",
       "      <td>0.0</td>\n",
       "      <td>52.100467</td>\n",
       "      <td>90.824687</td>\n",
       "    </tr>\n",
       "    <tr>\n",
       "      <th>50491</th>\n",
       "      <td>2021-06-09 22:45:00</td>\n",
       "      <td>0.0</td>\n",
       "      <td>51.901324</td>\n",
       "      <td>90.218876</td>\n",
       "    </tr>\n",
       "    <tr>\n",
       "      <th>50492</th>\n",
       "      <td>2021-06-09 23:00:00</td>\n",
       "      <td>0.0</td>\n",
       "      <td>51.823736</td>\n",
       "      <td>90.339627</td>\n",
       "    </tr>\n",
       "    <tr>\n",
       "      <th>50493</th>\n",
       "      <td>2021-06-09 23:15:00</td>\n",
       "      <td>0.0</td>\n",
       "      <td>50.666638</td>\n",
       "      <td>88.413236</td>\n",
       "    </tr>\n",
       "    <tr>\n",
       "      <th>50494</th>\n",
       "      <td>2021-06-09 23:30:00</td>\n",
       "      <td>0.0</td>\n",
       "      <td>49.584024</td>\n",
       "      <td>87.441277</td>\n",
       "    </tr>\n",
       "    <tr>\n",
       "      <th>50495</th>\n",
       "      <td>2021-06-09 23:45:00</td>\n",
       "      <td>0.0</td>\n",
       "      <td>48.517445</td>\n",
       "      <td>85.329757</td>\n",
       "    </tr>\n",
       "    <tr>\n",
       "      <th>50496</th>\n",
       "      <td>2021-06-10 00:00:00</td>\n",
       "      <td>0.0</td>\n",
       "      <td>47.509316</td>\n",
       "      <td>84.122788</td>\n",
       "    </tr>\n",
       "  </tbody>\n",
       "</table>\n",
       "</div>"
      ]
     },
     "metadata": {},
     "execution_count": 6
    }
   ],
   "metadata": {}
  },
  {
   "cell_type": "code",
   "execution_count": 9,
   "source": [
    "REALTIME_FOLDER = os.path.join(WORKDIR, 'realtime-data')\r\n",
    "os.makedirs(REALTIME_FOLDER, exist_ok=True)"
   ],
   "outputs": [],
   "metadata": {}
  },
  {
   "cell_type": "code",
   "execution_count": 10,
   "source": [
    "# Save each sample as a separate file\r\n",
    "header = X.columns.tolist()\r\n",
    "\r\n",
    "for index, row in X.iterrows():\r\n",
    "    fname = str(index+1) + '.csv'\r\n",
    "    f = open(os.path.join(REALTIME_FOLDER, fname), 'w')\r\n",
    "    f.write(','.join(str(c) for c in header))\r\n",
    "    f.write('\\n')\r\n",
    "    f.write(','.join(str(v) for v in row.values))\r\n",
    "    f.close()"
   ],
   "outputs": [],
   "metadata": {}
  },
  {
   "cell_type": "code",
   "execution_count": 12,
   "source": [
    "datastore.upload(src_dir=REALTIME_FOLDER, target_path=\"realtime-data\", overwrite=True, show_progress=True)"
   ],
   "outputs": [
    {
     "output_type": "stream",
     "name": "stdout",
     "text": [
      "Uploading an estimated of 10 files\n",
      "Uploading d:\\DS\\MLOps-Bootcamp-2021\\MLOps-Bootcamp-2021\\realtime-data\\50488.csv\n",
      "Uploaded d:\\DS\\MLOps-Bootcamp-2021\\MLOps-Bootcamp-2021\\realtime-data\\50488.csv, 1 files out of an estimated total of 10\n",
      "Uploading d:\\DS\\MLOps-Bootcamp-2021\\MLOps-Bootcamp-2021\\realtime-data\\50489.csv\n",
      "Uploaded d:\\DS\\MLOps-Bootcamp-2021\\MLOps-Bootcamp-2021\\realtime-data\\50489.csv, 2 files out of an estimated total of 10\n",
      "Uploading d:\\DS\\MLOps-Bootcamp-2021\\MLOps-Bootcamp-2021\\realtime-data\\50490.csv\n",
      "Uploaded d:\\DS\\MLOps-Bootcamp-2021\\MLOps-Bootcamp-2021\\realtime-data\\50490.csv, 3 files out of an estimated total of 10\n",
      "Uploading d:\\DS\\MLOps-Bootcamp-2021\\MLOps-Bootcamp-2021\\realtime-data\\50491.csv\n",
      "Uploaded d:\\DS\\MLOps-Bootcamp-2021\\MLOps-Bootcamp-2021\\realtime-data\\50491.csv, 4 files out of an estimated total of 10\n",
      "Uploading d:\\DS\\MLOps-Bootcamp-2021\\MLOps-Bootcamp-2021\\realtime-data\\50492.csv\n",
      "Uploaded d:\\DS\\MLOps-Bootcamp-2021\\MLOps-Bootcamp-2021\\realtime-data\\50492.csv, 5 files out of an estimated total of 10\n",
      "Uploading d:\\DS\\MLOps-Bootcamp-2021\\MLOps-Bootcamp-2021\\realtime-data\\50493.csv\n",
      "Uploaded d:\\DS\\MLOps-Bootcamp-2021\\MLOps-Bootcamp-2021\\realtime-data\\50493.csv, 6 files out of an estimated total of 10\n",
      "Uploading d:\\DS\\MLOps-Bootcamp-2021\\MLOps-Bootcamp-2021\\realtime-data\\50494.csv\n",
      "Uploaded d:\\DS\\MLOps-Bootcamp-2021\\MLOps-Bootcamp-2021\\realtime-data\\50494.csv, 7 files out of an estimated total of 10\n",
      "Uploading d:\\DS\\MLOps-Bootcamp-2021\\MLOps-Bootcamp-2021\\realtime-data\\50495.csv\n",
      "Uploaded d:\\DS\\MLOps-Bootcamp-2021\\MLOps-Bootcamp-2021\\realtime-data\\50495.csv, 8 files out of an estimated total of 10\n",
      "Uploading d:\\DS\\MLOps-Bootcamp-2021\\MLOps-Bootcamp-2021\\realtime-data\\50496.csv\n",
      "Uploaded d:\\DS\\MLOps-Bootcamp-2021\\MLOps-Bootcamp-2021\\realtime-data\\50496.csv, 9 files out of an estimated total of 10\n",
      "Uploading d:\\DS\\MLOps-Bootcamp-2021\\MLOps-Bootcamp-2021\\realtime-data\\50497.csv\n",
      "Uploaded d:\\DS\\MLOps-Bootcamp-2021\\MLOps-Bootcamp-2021\\realtime-data\\50497.csv, 10 files out of an estimated total of 10\n",
      "Uploaded 10 files\n"
     ]
    },
    {
     "output_type": "execute_result",
     "data": {
      "text/plain": [
       "$AZUREML_DATAREFERENCE_689f07c3fd3f47f6bc0baf18babc59a8"
      ]
     },
     "metadata": {},
     "execution_count": 12
    }
   ],
   "metadata": {}
  },
  {
   "cell_type": "code",
   "execution_count": 13,
   "source": [
    "# Register a dataset for the input data\r\n",
    "realtime_data_set = Dataset.File.from_files(path=(datastore, 'realtime-data/'), validate=False)\r\n",
    "try:\r\n",
    "    realtime_data_set = realtime_data_set.register(workspace=ws, \r\n",
    "                                             name='realtime-data',\r\n",
    "                                             description='realtime data for pytown demand energy forecast',\r\n",
    "                                             create_new_version=True)\r\n",
    "except Exception as ex:\r\n",
    "    print(ex)\r\n",
    "\r\n",
    "print(\"Done!\")"
   ],
   "outputs": [
    {
     "output_type": "stream",
     "name": "stdout",
     "text": [
      "Done!\n"
     ]
    }
   ],
   "metadata": {}
  },
  {
   "cell_type": "markdown",
   "source": [
    "## Generate batch data"
   ],
   "metadata": {}
  },
  {
   "cell_type": "code",
   "execution_count": 92,
   "source": [
    "# retrieve batch dataset from Azure Datastore\r\n",
    "ds = Dataset.get_by_name(ws, name=\"energy_data_15_min\")\r\n",
    "df = ds.to_pandas_dataframe()\r\n",
    "# pick up 1 week (672 data points)\r\n",
    "X = df.iloc[-672:]\r\n",
    "X"
   ],
   "outputs": [
    {
     "output_type": "execute_result",
     "data": {
      "text/plain": [
       "              data_index_  temperature  solar_ghi  solar_prediction_mw  \\\n",
       "49825 2021-06-03 00:15:00   290.465912        0.0                  0.0   \n",
       "49826 2021-06-03 00:30:00   290.422150        0.0                  0.0   \n",
       "49827 2021-06-03 00:45:00   290.378387        0.0                  0.0   \n",
       "49828 2021-06-03 01:00:00   290.325928        0.0                  0.0   \n",
       "49829 2021-06-03 01:15:00   290.264740        0.0                  0.0   \n",
       "...                   ...          ...        ...                  ...   \n",
       "50492 2021-06-09 23:00:00   288.254852        0.0                  0.0   \n",
       "50493 2021-06-09 23:15:00   288.050537        0.0                  0.0   \n",
       "50494 2021-06-09 23:30:00   287.846252        0.0                  0.0   \n",
       "50495 2021-06-09 23:45:00   287.641937        0.0                  0.0   \n",
       "50496 2021-06-10 00:00:00   287.930267        0.0                  0.0   \n",
       "\n",
       "       wind_prediction_mw  load_actuals_mw  \n",
       "49825           53.265842        87.947544  \n",
       "49826           53.888616        87.836423  \n",
       "49827           54.780881        86.913803  \n",
       "49828           56.868520        86.637136  \n",
       "49829           57.985790        86.708764  \n",
       "...                   ...              ...  \n",
       "50492           51.823736        90.339627  \n",
       "50493           50.666638        88.413236  \n",
       "50494           49.584024        87.441277  \n",
       "50495           48.517445        85.329757  \n",
       "50496           47.509316        84.122788  \n",
       "\n",
       "[672 rows x 6 columns]"
      ],
      "text/html": [
       "<div>\n",
       "<style scoped>\n",
       "    .dataframe tbody tr th:only-of-type {\n",
       "        vertical-align: middle;\n",
       "    }\n",
       "\n",
       "    .dataframe tbody tr th {\n",
       "        vertical-align: top;\n",
       "    }\n",
       "\n",
       "    .dataframe thead th {\n",
       "        text-align: right;\n",
       "    }\n",
       "</style>\n",
       "<table border=\"1\" class=\"dataframe\">\n",
       "  <thead>\n",
       "    <tr style=\"text-align: right;\">\n",
       "      <th></th>\n",
       "      <th>data_index_</th>\n",
       "      <th>temperature</th>\n",
       "      <th>solar_ghi</th>\n",
       "      <th>solar_prediction_mw</th>\n",
       "      <th>wind_prediction_mw</th>\n",
       "      <th>load_actuals_mw</th>\n",
       "    </tr>\n",
       "  </thead>\n",
       "  <tbody>\n",
       "    <tr>\n",
       "      <th>49825</th>\n",
       "      <td>2021-06-03 00:15:00</td>\n",
       "      <td>290.465912</td>\n",
       "      <td>0.0</td>\n",
       "      <td>0.0</td>\n",
       "      <td>53.265842</td>\n",
       "      <td>87.947544</td>\n",
       "    </tr>\n",
       "    <tr>\n",
       "      <th>49826</th>\n",
       "      <td>2021-06-03 00:30:00</td>\n",
       "      <td>290.422150</td>\n",
       "      <td>0.0</td>\n",
       "      <td>0.0</td>\n",
       "      <td>53.888616</td>\n",
       "      <td>87.836423</td>\n",
       "    </tr>\n",
       "    <tr>\n",
       "      <th>49827</th>\n",
       "      <td>2021-06-03 00:45:00</td>\n",
       "      <td>290.378387</td>\n",
       "      <td>0.0</td>\n",
       "      <td>0.0</td>\n",
       "      <td>54.780881</td>\n",
       "      <td>86.913803</td>\n",
       "    </tr>\n",
       "    <tr>\n",
       "      <th>49828</th>\n",
       "      <td>2021-06-03 01:00:00</td>\n",
       "      <td>290.325928</td>\n",
       "      <td>0.0</td>\n",
       "      <td>0.0</td>\n",
       "      <td>56.868520</td>\n",
       "      <td>86.637136</td>\n",
       "    </tr>\n",
       "    <tr>\n",
       "      <th>49829</th>\n",
       "      <td>2021-06-03 01:15:00</td>\n",
       "      <td>290.264740</td>\n",
       "      <td>0.0</td>\n",
       "      <td>0.0</td>\n",
       "      <td>57.985790</td>\n",
       "      <td>86.708764</td>\n",
       "    </tr>\n",
       "    <tr>\n",
       "      <th>...</th>\n",
       "      <td>...</td>\n",
       "      <td>...</td>\n",
       "      <td>...</td>\n",
       "      <td>...</td>\n",
       "      <td>...</td>\n",
       "      <td>...</td>\n",
       "    </tr>\n",
       "    <tr>\n",
       "      <th>50492</th>\n",
       "      <td>2021-06-09 23:00:00</td>\n",
       "      <td>288.254852</td>\n",
       "      <td>0.0</td>\n",
       "      <td>0.0</td>\n",
       "      <td>51.823736</td>\n",
       "      <td>90.339627</td>\n",
       "    </tr>\n",
       "    <tr>\n",
       "      <th>50493</th>\n",
       "      <td>2021-06-09 23:15:00</td>\n",
       "      <td>288.050537</td>\n",
       "      <td>0.0</td>\n",
       "      <td>0.0</td>\n",
       "      <td>50.666638</td>\n",
       "      <td>88.413236</td>\n",
       "    </tr>\n",
       "    <tr>\n",
       "      <th>50494</th>\n",
       "      <td>2021-06-09 23:30:00</td>\n",
       "      <td>287.846252</td>\n",
       "      <td>0.0</td>\n",
       "      <td>0.0</td>\n",
       "      <td>49.584024</td>\n",
       "      <td>87.441277</td>\n",
       "    </tr>\n",
       "    <tr>\n",
       "      <th>50495</th>\n",
       "      <td>2021-06-09 23:45:00</td>\n",
       "      <td>287.641937</td>\n",
       "      <td>0.0</td>\n",
       "      <td>0.0</td>\n",
       "      <td>48.517445</td>\n",
       "      <td>85.329757</td>\n",
       "    </tr>\n",
       "    <tr>\n",
       "      <th>50496</th>\n",
       "      <td>2021-06-10 00:00:00</td>\n",
       "      <td>287.930267</td>\n",
       "      <td>0.0</td>\n",
       "      <td>0.0</td>\n",
       "      <td>47.509316</td>\n",
       "      <td>84.122788</td>\n",
       "    </tr>\n",
       "  </tbody>\n",
       "</table>\n",
       "<p>672 rows × 6 columns</p>\n",
       "</div>"
      ]
     },
     "metadata": {},
     "execution_count": 92
    }
   ],
   "metadata": {}
  },
  {
   "cell_type": "code",
   "execution_count": 93,
   "source": [
    "# drop target and add features\r\n",
    "X = X.drop(['load_actuals_mw'], axis=1)\r\n",
    "# generate additional ML features\r\n",
    "X['quarter_of_day'] = (X.data_index_.dt.hour // 6)\r\n",
    "X['day_of_week'] = X.data_index_.dt.dayofweek\r\n",
    "X = create_holiday_features(X)\r\n",
    "\r\n",
    "# add Fourier features to capture daily pattern in model\r\n",
    "fourier_order = 6\r\n",
    "\r\n",
    "X = add_fourier_features(X, \"quarter_of_day\", 4 * 24, fourier_order, \"f_quarter\")\r\n",
    "\r\n",
    "# split workdays and weekend/holidays\r\n",
    "workday_data, weekend_data = create_workday_weekend_features(X, fourier_order)\r\n",
    "X_linregr = pd.DataFrame(\r\n",
    "    {**workday_data, **weekend_data}\r\n",
    ")"
   ],
   "outputs": [],
   "metadata": {}
  },
  {
   "cell_type": "code",
   "execution_count": 94,
   "source": [
    "# List the input feature columns\r\n",
    "feat_columns = list(workday_data.keys()) + list(weekend_data.keys())"
   ],
   "outputs": [],
   "metadata": {}
  },
  {
   "cell_type": "code",
   "execution_count": 100,
   "source": [
    "BATCH_FOLDER = os.path.join(WORKDIR, 'batch-data')\r\n",
    "# Remove the local batch folder if left over from a previous run\r\n",
    "if os.path.exists(BATCH_FOLDER) and os.path.isdir(BATCH_FOLDER):\r\n",
    "    shutil.rmtree(BATCH_FOLDER, ignore_errors=True)\r\n",
    "os.makedirs(BATCH_FOLDER, exist_ok=True)"
   ],
   "outputs": [],
   "metadata": {}
  },
  {
   "cell_type": "code",
   "execution_count": 101,
   "source": [
    "# Save each sample as a separate \"daily\" batch (96 data points)\r\n",
    "header = ['data_index_'] + X_linregr[feat_columns].columns.tolist()\r\n",
    "X_feat = X_linregr[feat_columns].to_numpy()\r\n",
    "batch_size = 96\r\n",
    "for j in range(X_feat.shape[0] // batch_size):\r\n",
    "    fname = 'batch-' + str(j+1) + '.csv'\r\n",
    "    with open(os.path.join(BATCH_FOLDER, fname), \"a\") as f: \r\n",
    "        f.write(','.join(str(c) for c in header) + '\\n')\r\n",
    "        for i in range(j * batch_size, (j+1) * batch_size):\r\n",
    "            f.write(str(X.iloc[i].data_index_) + ',')\r\n",
    "            f.write(','.join(str(v) for v in X_feat[i].tolist()))\r\n",
    "            if i != (j+1) * batch_size - 1:\r\n",
    "                f.write('\\n')"
   ],
   "outputs": [],
   "metadata": {}
  },
  {
   "cell_type": "code",
   "execution_count": 102,
   "source": [
    "datastore.upload(src_dir=BATCH_FOLDER, target_path=\"batch-data\", overwrite=True, show_progress=True)"
   ],
   "outputs": [
    {
     "output_type": "stream",
     "name": "stdout",
     "text": [
      "Uploading an estimated of 7 files\n",
      "Uploading d:\\DS\\MLOps-Bootcamp-2021\\MLOps-Bootcamp-2021\\batch-data\\batch-2.csv\n",
      "Uploaded d:\\DS\\MLOps-Bootcamp-2021\\MLOps-Bootcamp-2021\\batch-data\\batch-2.csv, 1 files out of an estimated total of 7\n",
      "Uploading d:\\DS\\MLOps-Bootcamp-2021\\MLOps-Bootcamp-2021\\batch-data\\batch-4.csv\n",
      "Uploaded d:\\DS\\MLOps-Bootcamp-2021\\MLOps-Bootcamp-2021\\batch-data\\batch-4.csv, 2 files out of an estimated total of 7\n",
      "Uploading d:\\DS\\MLOps-Bootcamp-2021\\MLOps-Bootcamp-2021\\batch-data\\batch-6.csv\n",
      "Uploaded d:\\DS\\MLOps-Bootcamp-2021\\MLOps-Bootcamp-2021\\batch-data\\batch-6.csv, 3 files out of an estimated total of 7\n",
      "Uploading d:\\DS\\MLOps-Bootcamp-2021\\MLOps-Bootcamp-2021\\batch-data\\batch-1.csv\n",
      "Uploaded d:\\DS\\MLOps-Bootcamp-2021\\MLOps-Bootcamp-2021\\batch-data\\batch-1.csv, 4 files out of an estimated total of 7\n",
      "Uploading d:\\DS\\MLOps-Bootcamp-2021\\MLOps-Bootcamp-2021\\batch-data\\batch-3.csv\n",
      "Uploaded d:\\DS\\MLOps-Bootcamp-2021\\MLOps-Bootcamp-2021\\batch-data\\batch-3.csv, 5 files out of an estimated total of 7\n",
      "Uploading d:\\DS\\MLOps-Bootcamp-2021\\MLOps-Bootcamp-2021\\batch-data\\batch-5.csv\n",
      "Uploaded d:\\DS\\MLOps-Bootcamp-2021\\MLOps-Bootcamp-2021\\batch-data\\batch-5.csv, 6 files out of an estimated total of 7\n",
      "Uploading d:\\DS\\MLOps-Bootcamp-2021\\MLOps-Bootcamp-2021\\batch-data\\batch-7.csv\n",
      "Uploaded d:\\DS\\MLOps-Bootcamp-2021\\MLOps-Bootcamp-2021\\batch-data\\batch-7.csv, 7 files out of an estimated total of 7\n",
      "Uploaded 7 files\n"
     ]
    },
    {
     "output_type": "execute_result",
     "data": {
      "text/plain": [
       "$AZUREML_DATAREFERENCE_0346869f9b7541589ed50bf44eaffa39"
      ]
     },
     "metadata": {},
     "execution_count": 102
    }
   ],
   "metadata": {}
  },
  {
   "cell_type": "code",
   "execution_count": 103,
   "source": [
    "# Register a dataset for the input data\r\n",
    "batch_data_set = Dataset.File.from_files(path=(datastore, 'batch-data/'), validate=False)\r\n",
    "try:\r\n",
    "    batch_data_set = batch_data_set.register(workspace=ws, \r\n",
    "                                             name='batch-data',\r\n",
    "                                             description='batch data for pytown demand energy forecast',\r\n",
    "                                             create_new_version=True)\r\n",
    "except Exception as ex:\r\n",
    "    print(ex)\r\n",
    "\r\n",
    "print(\"Done!\")"
   ],
   "outputs": [
    {
     "output_type": "stream",
     "name": "stdout",
     "text": [
      "Done!\n"
     ]
    }
   ],
   "metadata": {}
  }
 ],
 "metadata": {
  "interpreter": {
   "hash": "d0c0641573e26ff90e279ea3d930a41116c682b71b3d26a209012b19edb32094"
  },
  "kernelspec": {
   "name": "python3",
   "display_name": "Python 3.8.10 64-bit ('mlops': conda)"
  },
  "language_info": {
   "codemirror_mode": {
    "name": "ipython",
    "version": 3
   },
   "file_extension": ".py",
   "mimetype": "text/x-python",
   "name": "python",
   "nbconvert_exporter": "python",
   "pygments_lexer": "ipython3",
   "version": "3.8.10"
  }
 },
 "nbformat": 4,
 "nbformat_minor": 5
}